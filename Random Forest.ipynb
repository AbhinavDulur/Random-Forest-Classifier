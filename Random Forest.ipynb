{
 "cells": [
  {
   "cell_type": "markdown",
   "metadata": {},
   "source": [
    "# The purpose of this lab file is to create and run a Random Forest Classification Algorithm.\n",
    "\n",
    "https://intellipaat.com/blog/what-is-random-forest-algorithm-in-python/"
   ]
  },
  {
   "cell_type": "markdown",
   "metadata": {},
   "source": [
    "#### X is the columns of the dataframe that you wan to be used in the prediction algorithm. Y is the column that is being predicted."
   ]
  },
  {
   "cell_type": "code",
   "execution_count": 1,
   "metadata": {},
   "outputs": [],
   "source": [
    "#Packages to import\n",
    "from sklearn.model_selection import train_test_split\n",
    "from sklearn.ensemble import RandomForestClassifier\n",
    "from sklearn.metrics import accuracy_score\n",
    "from sklearn.metrics import classification_report, confusion_matrix"
   ]
  },
  {
   "cell_type": "code",
   "execution_count": 3,
   "metadata": {},
   "outputs": [],
   "source": [
    "def RandomForestClassifier(xlabels, ylabel, df, feature_importance_plot = False):\n",
    "    #Input (the columns we are using to predict)\n",
    "    X = df[xlabels]\n",
    "    #Output (the column we are trying to predict)\n",
    "    Y = df[ylabel]\n",
    "    \n",
    "    #Train/Test Split, 80% of the data is used for training, and 20% for testing\n",
    "    X_train, X_test, Y_train, Y_test = train_test_split(X,Y, test_size = 0.20)\n",
    "    \n",
    "    #Running the Random Forest Classifier\n",
    "    classifier = RandomForestClassifier(n_estimators = 20, criterion = 'gini', random_state = 1, max_depth = 5)\n",
    "    classifier.fit(X_train, Y_train.values.ravel())\n",
    "    Y_pred = classifier.predict(X_test)\n",
    "    \n",
    "    #Model Accuracy\n",
    "    print('Accuracy: ' + str(accuracy_score(Y_test, Y_pred)))\n",
    "    \n",
    "    #Confusion Matrix\n",
    "    print(confusion_matrix(Y_test, classifier.predict(X_test)))\n",
    "    \n",
    "    #Visualization of feature importance\n",
    "    if feature_importance_plot == True:\n",
    "        features_imp = pd.Series(classifier.feature_importances_, index = X.columns).sort_values(ascending = False)\n",
    "\n",
    "    sns.set_style('whitegrid')\n",
    "    sns.barplot(x = features_imp, y = features_imp.index)\n",
    "    plt.xlabel('Feature Importance Score')\n",
    "    plt.ylabel('Features')\n",
    "    plt.title('Visualizing Important Features Determined from Random Forest Classification')\n",
    "    plt.show()"
   ]
  }
 ],
 "metadata": {
  "kernelspec": {
   "display_name": "Python 3",
   "language": "python",
   "name": "python3"
  },
  "language_info": {
   "codemirror_mode": {
    "name": "ipython",
    "version": 3
   },
   "file_extension": ".py",
   "mimetype": "text/x-python",
   "name": "python",
   "nbconvert_exporter": "python",
   "pygments_lexer": "ipython3",
   "version": "3.7.7"
  }
 },
 "nbformat": 4,
 "nbformat_minor": 4
}
